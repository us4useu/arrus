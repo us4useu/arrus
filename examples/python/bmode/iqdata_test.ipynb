{
 "cells": [
  {
   "cell_type": "markdown",
   "metadata": {},
   "source": [
    "This notebook is for testing reconstruction on iq data"
   ]
  },
  {
   "cell_type": "markdown",
   "metadata": {},
   "source": [
    "## import section"
   ]
  },
  {
   "cell_type": "code",
   "execution_count": 1,
   "metadata": {},
   "outputs": [],
   "source": [
    "%matplotlib inline \n",
    "import scipy.io as sio\n",
    "import scipy.signal as scs\n",
    "import matplotlib.pyplot as plt\n",
    "import numpy as np\n",
    "import numpy.matlib as npml\n",
    "import time\n",
    "import reconstruct_image as ri"
   ]
  },
  {
   "cell_type": "markdown",
   "metadata": {},
   "source": [
    "## loading simulation data"
   ]
  },
  {
   "cell_type": "code",
   "execution_count": 2,
   "metadata": {},
   "outputs": [
    {
     "name": "stdout",
     "output_type": "stream",
     "text": [
      "conventional mode\n",
      "input data keys:  dict_keys(['__header__', '__version__', '__globals__', 'fn', 'fs', 'nElem', 'nPer', 'pitch', 'rfLin', 'sos', 'txAp', 'txFoc', 'txAng'])\n",
      " \n",
      " \n",
      "speed of sound:  1540.0\n",
      "sampling frequency:  65000000.0\n",
      "pulse (carrier) frequency:  5000000.0\n",
      "pitch:  0.00021\n",
      "aperture length:  192\n",
      "focal length:  0.02\n",
      "subaperture length:  48\n",
      "transmission angles:  [[0.]]\n",
      "number of pulse periods:  2\n"
     ]
    }
   ],
   "source": [
    "# path to data file\n",
    "\n",
    "# mode = 'sta'\n",
    "# mode = 'pwi'\n",
    "mode = 'lin'\n",
    "\n",
    "if mode == 'sta':\n",
    "    file = '/media/linuser/data01/praca/us4us/' \\\n",
    "         'us4us_testData/dataSets02/rfSta_field.mat'\n",
    "    print('STA mode')\n",
    "elif mode == 'pwi':\n",
    "    file = '/media/linuser/data01/praca/us4us/' \\\n",
    "           'us4us_testData/dataSets02/rfPwi_field.mat'\n",
    "    print('PWI mode')\n",
    "elif mode == 'lin':\n",
    "    file = '/media/linuser/data01/praca/us4us/' \\\n",
    "           'us4us_testData/dataSets02/rfLin_field.mat'\n",
    "    print('conventional mode')\n",
    "else:\n",
    "    raise ValueError('unknown reconstruction mode!')\n",
    "\n",
    "\n",
    "\n",
    "# ippt\n",
    "# file = '/home/linuser/us4us/usgData/rfLin_field.mat'\n",
    "\n",
    "\n",
    "       \n",
    "\n",
    "# load data\n",
    "[rf, c, fs, fc, pitch,\n",
    "tx_focus, tx_angle, tx_aperture,\n",
    "n_elements, pulse_periods] = ri.load_simulated_data(file, 1)"
   ]
  },
  {
   "cell_type": "markdown",
   "metadata": {},
   "source": [
    "## reconstruction from raw rf data (universal approach)"
   ]
  },
  {
   "cell_type": "code",
   "execution_count": 3,
   "metadata": {},
   "outputs": [
    {
     "name": "stdout",
     "output_type": "stream",
     "text": [
      "rf (real) data on input\n",
      " 100.0 %3.4 %96.4 %\n",
      "--- 3.3 seconds ---\n"
     ]
    }
   ],
   "source": [
    "# define grid for reconstruction (imaged area)\n",
    "x_grid = np.linspace(-3.3*1e-3, 3.3*1e-3, 64)\n",
    "z_grid = np.linspace(9*1e-3, 12.*1e-3, 64)\n",
    "\n",
    "# reconstruct data\n",
    "start_time = time.time()\n",
    "rf_image = ri.reconstruct_rf_img(rf, x_grid, z_grid,\n",
    "                           pitch, fs, fc, c,\n",
    "                           tx_aperture, tx_focus, tx_angle,\n",
    "                           pulse_periods, tx_mode=mode\n",
    "                           )\n",
    "\n",
    "\n",
    "end_time = time.time() - start_time\n",
    "end_time = round(end_time*10)/10\n",
    "print(\"--- %s seconds ---\" % end_time)"
   ]
  },
  {
   "cell_type": "markdown",
   "metadata": {},
   "source": [
    "## creating B-mode image"
   ]
  },
  {
   "cell_type": "code",
   "execution_count": 4,
   "metadata": {},
   "outputs": [
    {
     "data": {
      "image/png": "[encoded data removed]",
      "text/plain": [
       "<Figure size 432x288 with 2 Axes>"
      ]
     },
     "metadata": {
      "needs_background": "light"
     },
     "output_type": "display_data"
    }
   ],
   "source": [
    "ri.make_bmode_image(rf_image, x_grid, z_grid)"
   ]
  },
  {
   "cell_type": "markdown",
   "metadata": {},
   "source": [
    "## converting from RF to IQ"
   ]
  },
  {
   "cell_type": "code",
   "execution_count": null,
   "metadata": {},
   "outputs": [
    {
     "name": "stdout",
     "output_type": "stream",
     "text": [
      "converting starts...\n",
      "converted  22 %\n",
      "converted  44 %\n",
      "converted  67 %\n"
     ]
    }
   ],
   "source": [
    "dec = 4\n",
    "start_time = time.time()\n",
    "\n",
    "# This line (below) run rf2iq() on whole 'rf' array at once - it will crash when lack of memory\n",
    "# iq = ri.rf2iq(rf, fc, fs, dec)\n",
    "\n",
    "\n",
    "# The following code cut the 'rf' array and run rf2iq() on smaller pieces  \n",
    "rfshape = rf.shape\n",
    "n_row = rfshape[0]\n",
    "drow = 1024\n",
    "row_0 = 0\n",
    "row_1 = row_0 + drow\n",
    "\n",
    "print('converting starts...')\n",
    "krf = rf[row_0:row_1,:,:]\n",
    "iq = ri.rf2iq(krf, fc, fs, dec)\n",
    "\n",
    "\n",
    "while 1:\n",
    "    print('converted ', row_1*100//n_row, '%')\n",
    "    row_0 = row_1\n",
    "    row_1 = row_0 + drow\n",
    "    \n",
    "    if row_0 >= n_row:\n",
    "        break\n",
    "        \n",
    "    if row_1 > n_row:\n",
    "        row_1 = n_row\n",
    "    \n",
    "    krf = rf[row_0:row_1,:,:]\n",
    "    kiq = ri.rf2iq(krf, fc, fs, dec)\n",
    "    iq = np.concatenate((iq,kiq))\n",
    "\n",
    "\n",
    "\n",
    "end_time = time.time() - start_time\n",
    "end_time = round(end_time*10)/10\n",
    "print(\"--- %s seconds ---\" % end_time)\n",
    "\n",
    "# print(rf.shape)\n",
    "# print(iq.shape)\n"
   ]
  },
  {
   "cell_type": "markdown",
   "metadata": {},
   "source": [
    "## reconstruction from iq"
   ]
  },
  {
   "cell_type": "code",
   "execution_count": null,
   "metadata": {},
   "outputs": [],
   "source": [
    "# define grid for reconstruction (imaged area)\n",
    "x_grid = np.linspace(-3.3*1e-3, 3.3*1e-3, 64)\n",
    "z_grid = np.linspace(9*1e-3, 12.*1e-3, 64)\n",
    "\n",
    "# reconstruct data # uwaga - powinno byc fs/dec, ale wtedy jest zle <- tutaj trzeba sprawdzic\n",
    "start_time = time.time()\n",
    "iq_image = ri.reconstruct_rf_img(iq, x_grid, z_grid,\n",
    "                                 pitch, fs/dec, fc, c,\n",
    "                                 tx_aperture, tx_focus, tx_angle,\n",
    "                                 pulse_periods, tx_mode=mode\n",
    "                                 )\n",
    "\n",
    "end_time = time.time() - start_time\n",
    "end_time = round(end_time*10)/10\n",
    "print(\"--- %s seconds ---\" % end_time)\n",
    "\n",
    "# draw b-mode image\n",
    "ri.make_bmode_image(iq_image,x_grid,z_grid)"
   ]
  },
  {
   "cell_type": "markdown",
   "metadata": {},
   "source": [
    "## testowanie iq (znowu)"
   ]
  },
  {
   "cell_type": "code",
   "execution_count": null,
   "metadata": {},
   "outputs": [],
   "source": [
    "line = rf[:,1,1]\n",
    "env = ri.calculate_envelope(line)\n",
    "\n",
    "plt.figure(1)\n",
    "plt.plot(env)\n",
    "\n",
    "\n",
    "print('line shape:', line.shape)\n",
    "iqline = ri.rf2iq(line, fc, fs, 1)\n",
    "print('iqline shape:',iqline.shape)\n",
    "iqenv = np.abs(iqline)\n",
    "\n",
    "print(iqenv.shape)\n",
    "\n",
    "plt.figure(2)\n",
    "plt.plot(iqenv)\n",
    "\n",
    "\n",
    "\n",
    "s = np.fft.fft(line)\n",
    "siglen = len(line)\n",
    "f = np.fft.fftfreq(siglen,1/fs)\n",
    "f = np.squeeze(f)\n",
    "plt.figure(3)\n",
    "plt.plot(f, abs(s)), plt.show()\n",
    "\n",
    "\n",
    "\n",
    "\n",
    "s = np.fft.fft(iqline)\n",
    "siglen = len(iqline)\n",
    "f = np.fft.fftfreq(siglen,1/fs)\n",
    "f = np.squeeze(f)\n",
    "plt.figure(4)\n",
    "plt.plot(f, abs(s)), plt.show()"
   ]
  },
  {
   "cell_type": "code",
   "execution_count": null,
   "metadata": {},
   "outputs": [],
   "source": [
    "plt.figure(1)\n",
    "plt.imshow(ri.calculate_envelope(rf[1000:1500,:,1]),\n",
    "               interpolation='bicubic',\n",
    "#                aspect=data_aspect,\n",
    "               cmap='gray'\n",
    "#                vmin=-60, vmax=0\n",
    "               )\n",
    "\n",
    "\n",
    "plt.figure(2)\n",
    "plt.imshow(np.abs(iq[1000:1500,:,1]),\n",
    "               interpolation='bicubic',\n",
    "#                aspect=data_aspect,\n",
    "               cmap='gray'\n",
    "#                vmin=-60, vmax=0\n",
    "               )"
   ]
  },
  {
   "cell_type": "code",
   "execution_count": null,
   "metadata": {},
   "outputs": [],
   "source": []
  },
  {
   "cell_type": "code",
   "execution_count": null,
   "metadata": {},
   "outputs": [],
   "source": [
    "\n",
    "plt.figure(1)\n",
    "plt.plot(ri.calculate_envelope(rf[:,32,32]))\n",
    "\n",
    "plt.figure(1)\n",
    "plt.plot(np.abs(iq[:,32,32]))\n"
   ]
  }
 ],
 "metadata": {
  "kernelspec": {
   "display_name": "Python 3",
   "language": "python",
   "name": "python3"
  },
  "language_info": {
   "codemirror_mode": {
    "name": "ipython",
    "version": 3
   },
   "file_extension": ".py",
   "mimetype": "text/x-python",
   "name": "python",
   "nbconvert_exporter": "python",
   "pygments_lexer": "ipython3",
   "version": "3.7.3"
  }
 },
 "nbformat": 4,
 "nbformat_minor": 2
}
